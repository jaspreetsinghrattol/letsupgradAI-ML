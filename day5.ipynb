{
 "cells": [
  {
   "cell_type": "markdown",
   "metadata": {},
   "source": [
    "# WAP to find the first 20 non-even prime natural numbers"
   ]
  },
  {
   "cell_type": "code",
   "execution_count": 3,
   "metadata": {},
   "outputs": [
    {
     "name": "stdout",
     "output_type": "stream",
     "text": [
      "1\t2\t3\t5\t7\t11\t13\t17\t19\t23\t29\t31\t37\t41\t43\t47\t53\t59\t61\t67\t"
     ]
    }
   ],
   "source": [
    "count = 1\n",
    "num = 1\n",
    "while count < 21:\n",
    "    for i in range(2,num):\n",
    "        if num%i == 0:\n",
    "            break\n",
    "    else:\n",
    "        print(num,end=\"\\t\")\n",
    "        count += 1\n",
    "    num += 1"
   ]
  },
  {
   "cell_type": "markdown",
   "metadata": {},
   "source": [
    "# WAP to implement 15 functions of string"
   ]
  },
  {
   "cell_type": "code",
   "execution_count": 3,
   "metadata": {},
   "outputs": [
    {
     "name": "stdout",
     "output_type": "stream",
     "text": [
      "lower() : letsupgrade\n",
      "upper() : LETSUPGRADE\n",
      "Concatenated String : Letsupgradefcs\n",
      "count() :  1\n",
      "casefold() : letsupgrade\n",
      "isDigit() :  False\n"
     ]
    }
   ],
   "source": [
    "fname = \"Letsupgrade\" #input(\"Enter First Name : \")\n",
    "lname = \"fcs\" #input(\"Enter Last Name : \")\n",
    "name = fname+lname\n",
    "\n",
    "print(\"lower() : \"+fname.lower())\n",
    "print(\"upper() : \"+fname.upper())\n",
    "print(\"Concatenated String : \"+name)\n",
    "print(\"count() : \",name.count('a'))\n",
    "print(\"casefold() : \"+fname.casefold())\n",
    "print(\"isDigit() : \",fname.isdigit())"
   ]
  },
  {
   "cell_type": "markdown",
   "metadata": {},
   "source": [
    "# WAP to check if the given string is a pallindrome or Anagram or None of them."
   ]
  },
  {
   "cell_type": "code",
   "execution_count": 1,
   "metadata": {},
   "outputs": [
    {
     "name": "stdout",
     "output_type": "stream",
     "text": [
      "Enter String 1 : silent\n",
      "Enter String 2 : listen\n",
      "Not pallindrome\n",
      "The strings are anagrams.\n"
     ]
    }
   ],
   "source": [
    "def pallin(str1):\n",
    "    str2 = str1[::-1]\n",
    "    if str1 == str2:\n",
    "        print(\"Pallindrome\")\n",
    "    else:\n",
    "        print(\"Not pallindrome\")\n",
    "        \n",
    "          \n",
    "def anagram(s1, s2): \n",
    "    if(sorted(s1) == sorted(s2)): \n",
    "        print(\"The strings are anagrams.\")  \n",
    "    else: \n",
    "        print(\"The strings aren't anagrams.\")          \n",
    " \n",
    "string1 = input(\"Enter String 1 : \")\n",
    "string2 = input(\"Enter String 2 : \")\n",
    "pallin(string1)\n",
    "anagram(string1,string2)"
   ]
  },
  {
   "cell_type": "markdown",
   "metadata": {},
   "source": [
    "# Write a user defined function that removes all the additional characters from the string and converts it finally to lower case using builtin lower()"
   ]
  },
  {
   "cell_type": "code",
   "execution_count": 1,
   "metadata": {},
   "outputs": [
    {
     "name": "stdout",
     "output_type": "stream",
     "text": [
      "Enter a String : letsUpgrade@1FCS\n",
      "letsupgradefcs\n"
     ]
    }
   ],
   "source": [
    "def removeSpecialCharacter(s): \n",
    "    t = \"\" \n",
    "    for i in s: \n",
    "        if (i >= 'A' and i <= 'Z') or (i >= 'a' and i <= 'z'): \n",
    "            t += i \n",
    "    print(t.lower()) \n",
    "\n",
    "s = input(\"Enter a String : \")\n",
    "removeSpecialCharacter(s) "
   ]
  },
  {
   "cell_type": "code",
   "execution_count": null,
   "metadata": {},
   "outputs": [],
   "source": []
  }
 ],
 "metadata": {
  "kernelspec": {
   "display_name": "Python 3",
   "language": "python",
   "name": "python3"
  },
  "language_info": {
   "codemirror_mode": {
    "name": "ipython",
    "version": 3
   },
   "file_extension": ".py",
   "mimetype": "text/x-python",
   "name": "python",
   "nbconvert_exporter": "python",
   "pygments_lexer": "ipython3",
   "version": "3.7.6"
  }
 },
 "nbformat": 4,
 "nbformat_minor": 4
}
